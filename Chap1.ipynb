{
  "nbformat": 4,
  "nbformat_minor": 0,
  "metadata": {
    "colab": {
      "name": "Untitled1.ipynb",
      "provenance": [],
      "authorship_tag": "ABX9TyPirry54mDiydxopDuytSYN",
      "include_colab_link": true
    },
    "kernelspec": {
      "name": "python3",
      "display_name": "Python 3"
    },
    "language_info": {
      "name": "python"
    }
  },
  "cells": [
    {
      "cell_type": "markdown",
      "metadata": {
        "id": "view-in-github",
        "colab_type": "text"
      },
      "source": [
        "<a href=\"https://colab.research.google.com/github/handsome1120/python/blob/main/Chap1.ipynb\" target=\"_parent\"><img src=\"https://colab.research.google.com/assets/colab-badge.svg\" alt=\"Open In Colab\"/></a>"
      ]
    },
    {
      "cell_type": "markdown",
      "source": [
        "註解"
      ],
      "metadata": {
        "id": "l8C3G19C-Fgq"
      }
    },
    {
      "cell_type": "code",
      "execution_count": 1,
      "metadata": {
        "colab": {
          "base_uri": "https://localhost:8080/"
        },
        "id": "xrF6RRa59xXj",
        "outputId": "d40e8f88-9515-46ce-f669-b82fbd3a1e53"
      },
      "outputs": [
        {
          "output_type": "stream",
          "name": "stdout",
          "text": [
            "8\n"
          ]
        }
      ],
      "source": [
        "a=3  #單行註解\n",
        "b=5\n",
        "print(a+b)"
      ]
    },
    {
      "cell_type": "code",
      "source": [
        "'''\n",
        "多行註解\n",
        "多行註解\n",
        "多行註解\n",
        "'''\n",
        "a=3\n",
        "b=5\n",
        "print(a+b)"
      ],
      "metadata": {
        "colab": {
          "base_uri": "https://localhost:8080/"
        },
        "id": "h2bjb17p90vl",
        "outputId": "e1c20a17-6b19-43e5-e292-565fea848ffe"
      },
      "execution_count": 2,
      "outputs": [
        {
          "output_type": "stream",
          "name": "stdout",
          "text": [
            "8\n"
          ]
        }
      ]
    },
    {
      "cell_type": "markdown",
      "source": [
        "運算式"
      ],
      "metadata": {
        "id": "1AiwQ6lN-KMv"
      }
    },
    {
      "cell_type": "code",
      "source": [
        "#變數交換\n",
        "x=1\n",
        "y=10\n",
        "\n",
        "z=x\n",
        "x=y\n",
        "y=z\n",
        "print(x)\n",
        "print(y)"
      ],
      "metadata": {
        "colab": {
          "base_uri": "https://localhost:8080/"
        },
        "id": "OEDEa7fw93m6",
        "outputId": "3706a1cf-0e1f-46e4-d85b-f75b3231de4f"
      },
      "execution_count": 3,
      "outputs": [
        {
          "output_type": "stream",
          "name": "stdout",
          "text": [
            "10\n",
            "1\n"
          ]
        }
      ]
    },
    {
      "cell_type": "code",
      "source": [
        "x=1\n",
        "y=10\n",
        "\n",
        "x=x+y\n",
        "y=x-y\n",
        "x=x-y\n",
        "print(x)\n",
        "print(y)"
      ],
      "metadata": {
        "colab": {
          "base_uri": "https://localhost:8080/"
        },
        "id": "irf8ykss94Z7",
        "outputId": "768e25b3-0cf2-4881-aadc-12dc606d5d40"
      },
      "execution_count": 4,
      "outputs": [
        {
          "output_type": "stream",
          "name": "stdout",
          "text": [
            "10\n",
            "1\n"
          ]
        }
      ]
    },
    {
      "cell_type": "code",
      "source": [
        "#python版本的變數交換\n",
        "x=1\n",
        "y=10\n",
        "x,y = y,x\n",
        "print(x)\n",
        "print(y)"
      ],
      "metadata": {
        "colab": {
          "base_uri": "https://localhost:8080/"
        },
        "id": "2UewxGk097uj",
        "outputId": "cd544a3a-54ac-49a7-e8c4-e312dc23b945"
      },
      "execution_count": 5,
      "outputs": [
        {
          "output_type": "stream",
          "name": "stdout",
          "text": [
            "10\n",
            "1\n"
          ]
        }
      ]
    },
    {
      "cell_type": "markdown",
      "source": [
        "變數\n",
        "變數的平行設定"
      ],
      "metadata": {
        "id": "icPUURKe-M-n"
      }
    },
    {
      "cell_type": "code",
      "source": [
        "x, y, z= 3, 4, 5\n",
        "print(x)\n",
        "print(y)\n",
        "print(z)"
      ],
      "metadata": {
        "colab": {
          "base_uri": "https://localhost:8080/"
        },
        "id": "CkGq5Q8P99WZ",
        "outputId": "25dda559-fda1-4716-8ef4-63b9fbbe744c"
      },
      "execution_count": 6,
      "outputs": [
        {
          "output_type": "stream",
          "name": "stdout",
          "text": [
            "3\n",
            "4\n",
            "5\n"
          ]
        }
      ]
    },
    {
      "cell_type": "code",
      "source": [
        "x, y, z = 3, 4, 5\n",
        "x += 1 #x=x+1\n",
        "y *= 2 #y=y*2\n",
        "z **= 3 #z^3\n",
        "print(x, y, z)"
      ],
      "metadata": {
        "colab": {
          "base_uri": "https://localhost:8080/"
        },
        "id": "AKu5ZJDu-Ak5",
        "outputId": "8f01edfc-0315-4528-e4f1-a4944e9a2cda"
      },
      "execution_count": 7,
      "outputs": [
        {
          "output_type": "stream",
          "name": "stdout",
          "text": [
            "4 8 125\n"
          ]
        }
      ]
    },
    {
      "cell_type": "markdown",
      "source": [
        "變數的應用\n",
        "Q：邊長為3, 4, 5的三角形，其面積大小為何?\n",
        "海龍公式：\n",
        "s=(a+b+c)/2\n",
        "sqrt(s(s-a)(s-b)(s-c))*斜體文字*"
      ],
      "metadata": {
        "id": "qZd3wKkT-OfI"
      }
    },
    {
      "cell_type": "code",
      "source": [
        "import math\n",
        "a,b,c=3,4,5\n",
        "s=(a+b+c)/2\n",
        "d=math.sqrt(s*(s-a)*(s-b)*(s-c))\n",
        "print(d)"
      ],
      "metadata": {
        "colab": {
          "base_uri": "https://localhost:8080/"
        },
        "id": "6RkdO0t--PJ2",
        "outputId": "692ec8b1-e166-4ac9-808d-7da45acb6904"
      },
      "execution_count": 8,
      "outputs": [
        {
          "output_type": "stream",
          "name": "stdout",
          "text": [
            "6.0\n"
          ]
        }
      ]
    },
    {
      "cell_type": "markdown",
      "source": [
        "Q：半徑為10的圓形，其面積大小為何?"
      ],
      "metadata": {
        "id": "XlhfkMsx-ULV"
      }
    },
    {
      "cell_type": "code",
      "source": [
        "import math\n",
        "r=10\n",
        "print(r*r*math.pi)"
      ],
      "metadata": {
        "colab": {
          "base_uri": "https://localhost:8080/"
        },
        "id": "fQ1RWskQ-UjT",
        "outputId": "5b967d64-b62c-4e1a-a345-6e68b977b3af"
      },
      "execution_count": 9,
      "outputs": [
        {
          "output_type": "stream",
          "name": "stdout",
          "text": [
            "314.1592653589793\n"
          ]
        }
      ]
    },
    {
      "cell_type": "markdown",
      "source": [
        "資料型別\n",
        "python屬於動態類型變數，使用前不需要宣告資料型態"
      ],
      "metadata": {
        "id": "doet2bXN-W9X"
      }
    },
    {
      "cell_type": "code",
      "source": [
        "x=254\n",
        "print(type(x))\n",
        "y=254.0\n",
        "print(type(y))\n",
        "z='write'\n",
        "print(type(z))\n",
        "print(type(x==y))"
      ],
      "metadata": {
        "colab": {
          "base_uri": "https://localhost:8080/"
        },
        "id": "RXoSW5mA-XcV",
        "outputId": "849d3160-3c64-4beb-cd9c-27085817bcfb"
      },
      "execution_count": 10,
      "outputs": [
        {
          "output_type": "stream",
          "name": "stdout",
          "text": [
            "<class 'int'>\n",
            "<class 'float'>\n",
            "<class 'str'>\n",
            "<class 'bool'>\n"
          ]
        }
      ]
    },
    {
      "cell_type": "markdown",
      "source": [
        "算術符號"
      ],
      "metadata": {
        "id": "ahpEA2ps-ZrV"
      }
    },
    {
      "cell_type": "code",
      "source": [
        "x=10\n",
        "y=3\n",
        "print(x/y)  #除法\n",
        "print(x//y) #求商\n",
        "print(x%y)  #求餘數"
      ],
      "metadata": {
        "colab": {
          "base_uri": "https://localhost:8080/"
        },
        "id": "KYLDAnTV-aXg",
        "outputId": "75155284-208b-4af7-e788-f4a3a61b01eb"
      },
      "execution_count": 11,
      "outputs": [
        {
          "output_type": "stream",
          "name": "stdout",
          "text": [
            "3.3333333333333335\n",
            "3\n",
            "1\n"
          ]
        }
      ]
    },
    {
      "cell_type": "markdown",
      "source": [
        "注意數字的正確性"
      ],
      "metadata": {
        "id": "CNdgYeeU-c7R"
      }
    },
    {
      "cell_type": "code",
      "source": [
        "x=3.141592627\n",
        "print(x-3.14) #比正確值略小"
      ],
      "metadata": {
        "colab": {
          "base_uri": "https://localhost:8080/"
        },
        "id": "DrdNUPDx-dWT",
        "outputId": "429576f0-9732-4800-b737-3130401fdc49"
      },
      "execution_count": 12,
      "outputs": [
        {
          "output_type": "stream",
          "name": "stdout",
          "text": [
            "0.0015926269999999576\n"
          ]
        }
      ]
    },
    {
      "cell_type": "markdown",
      "source": [
        "算術符號的順序\n",
        "()括號 > *次方 > / 乘除 > +-加減"
      ],
      "metadata": {
        "id": "MCSc1XkD-fbm"
      }
    },
    {
      "cell_type": "code",
      "source": [
        "x=(5*(1+2)**2-3+4/2)\n",
        "print(x)"
      ],
      "metadata": {
        "colab": {
          "base_uri": "https://localhost:8080/"
        },
        "id": "ukW9QaoG-fsh",
        "outputId": "e19ec329-4ae8-46cc-cccf-3a0503d6d17c"
      },
      "execution_count": 13,
      "outputs": [
        {
          "output_type": "stream",
          "name": "stdout",
          "text": [
            "44.0\n"
          ]
        }
      ]
    },
    {
      "cell_type": "markdown",
      "source": [
        "關係比較"
      ],
      "metadata": {
        "id": "WkI-S6Hq-hyN"
      }
    },
    {
      "cell_type": "code",
      "source": [
        "print(10==10)\n",
        "x, y = 10, 20\n",
        "print(x==y)  # == 關係比較\n",
        "x=y          # =  指派值\n",
        "print(x)"
      ],
      "metadata": {
        "colab": {
          "base_uri": "https://localhost:8080/"
        },
        "id": "KNJ_r6YE-jgr",
        "outputId": "a06e56d9-5ad0-493c-df74-aa05e54d9cf3"
      },
      "execution_count": 14,
      "outputs": [
        {
          "output_type": "stream",
          "name": "stdout",
          "text": [
            "True\n",
            "False\n",
            "20\n"
          ]
        }
      ]
    },
    {
      "cell_type": "markdown",
      "source": [
        "關係運算，以閏年為例"
      ],
      "metadata": {
        "id": "LY93gWWD-k1E"
      }
    },
    {
      "cell_type": "code",
      "source": [
        "y=2010\n",
        "print(y%4==0 and y%100!=0 or y%400==0)\n",
        "y=2012\n",
        "print(y%4==0 and y%100!=0 or y%400==0)\n",
        "y=1900\n",
        "print(y%4==0 and y%100!=0 or y%400==0)\n",
        "y=2000\n",
        "print(y%4==0 and y%100!=0 or y%400==0)"
      ],
      "metadata": {
        "colab": {
          "base_uri": "https://localhost:8080/"
        },
        "id": "G9mOloqm-lIa",
        "outputId": "e7c5ae83-e144-4c1e-de29-e7b85fdbf829"
      },
      "execution_count": 15,
      "outputs": [
        {
          "output_type": "stream",
          "name": "stdout",
          "text": [
            "False\n",
            "True\n",
            "False\n",
            "True\n"
          ]
        }
      ]
    },
    {
      "cell_type": "markdown",
      "source": [
        "型態轉換"
      ],
      "metadata": {
        "id": "FZSnE1IH-nSu"
      }
    },
    {
      "cell_type": "code",
      "source": [
        "#小心不同型態之間所得到的結果跟想像不同\n",
        "x=\"must\"\n",
        "print(10*x)\n",
        "print(\"10\"+x)\n",
        "print(10,x)"
      ],
      "metadata": {
        "colab": {
          "base_uri": "https://localhost:8080/"
        },
        "id": "IgPLPZsD-nqM",
        "outputId": "5da4d4ca-d113-4263-baa7-8298a793d958"
      },
      "execution_count": 16,
      "outputs": [
        {
          "output_type": "stream",
          "name": "stdout",
          "text": [
            "mustmustmustmustmustmustmustmustmustmust\n",
            "10must\n",
            "10 must\n"
          ]
        }
      ]
    },
    {
      "cell_type": "code",
      "source": [
        "x=12\n",
        "print(type(x))\n",
        "y=float(x)+0.5 #強制型別轉換\n",
        "print(type(y))\n",
        "print(int(\"123\"))\n",
        "print(int(123.33))\n",
        "print(int(float(\"123.33\")))"
      ],
      "metadata": {
        "colab": {
          "base_uri": "https://localhost:8080/"
        },
        "id": "1prDLjCV-qQw",
        "outputId": "4159c555-2523-4da4-bb4c-38260f6b5e4c"
      },
      "execution_count": 17,
      "outputs": [
        {
          "output_type": "stream",
          "name": "stdout",
          "text": [
            "<class 'int'>\n",
            "<class 'float'>\n",
            "123\n",
            "123\n",
            "123\n"
          ]
        }
      ]
    },
    {
      "cell_type": "code",
      "source": [
        "#字串的型別轉換\n",
        "x=10*3.25  #x=32.5\n",
        "y=200*200  #y=40000\n",
        "s=\"The value of x is \" + str(x) + ' and y is ' + str(y)\n",
        "print(s)\n",
        "print(\"The value of x is\", x,\"and y is\", y)\n",
        "print(\"The value of x is {} and y is {}\".format(x,y))"
      ],
      "metadata": {
        "colab": {
          "base_uri": "https://localhost:8080/"
        },
        "id": "_JQYY1RY-sBc",
        "outputId": "421fa8c6-14e2-473e-f83c-b783762830fd"
      },
      "execution_count": 18,
      "outputs": [
        {
          "output_type": "stream",
          "name": "stdout",
          "text": [
            "The value of x is 32.5 and y is 40000\n",
            "The value of x is 32.5 and y is 40000\n",
            "The value of x is 32.5 and y is 40000\n"
          ]
        }
      ]
    },
    {
      "cell_type": "markdown",
      "source": [
        "非內建模組"
      ],
      "metadata": {
        "id": "iSnr7nE2-tJV"
      }
    },
    {
      "cell_type": "code",
      "source": [
        "import math\n",
        "print(math.pi)\n",
        "print(math.pow(2,3))\n",
        "print(8.3*10.58*math.sin(37.0/180*math.pi)/2)\n",
        "print(math.sqrt(25))"
      ],
      "metadata": {
        "colab": {
          "base_uri": "https://localhost:8080/"
        },
        "id": "BCUosGRb-tbc",
        "outputId": "0f84b356-37cf-49fb-d722-d78476c51c7b"
      },
      "execution_count": 19,
      "outputs": [
        {
          "output_type": "stream",
          "name": "stdout",
          "text": [
            "3.141592653589793\n",
            "8.0\n",
            "26.423892221536985\n",
            "5.0\n"
          ]
        }
      ]
    },
    {
      "cell_type": "markdown",
      "source": [
        "範例：算圓面積"
      ],
      "metadata": {
        "id": "6AMSJ3DV-vsQ"
      }
    },
    {
      "cell_type": "code",
      "source": [
        "import math\n",
        "r=input(\"請輸入圓的半徑：\")\n",
        "area=float(r)*float(r)*math.pi\n",
        "print(\"圓面積為：\",area)"
      ],
      "metadata": {
        "colab": {
          "base_uri": "https://localhost:8080/"
        },
        "id": "3-hus1ck-v9h",
        "outputId": "8ea81d07-cb70-4983-bae0-f837bed99045"
      },
      "execution_count": 20,
      "outputs": [
        {
          "output_type": "stream",
          "name": "stdout",
          "text": [
            "請輸入圓的半徑：10\n",
            "圓面積為： 314.1592653589793\n"
          ]
        }
      ]
    },
    {
      "cell_type": "markdown",
      "source": [
        "應用題：算矩形面積"
      ],
      "metadata": {
        "id": "ReLseDFA-yJ8"
      }
    },
    {
      "cell_type": "code",
      "source": [
        "r=input(\"請輸入矩形的長：\")\n",
        "w=input(\"請輸入矩形的寬：\")\n",
        "area=float(r)*float(w)\n",
        "print(\"矩形面積為：\",area)"
      ],
      "metadata": {
        "colab": {
          "base_uri": "https://localhost:8080/"
        },
        "id": "ONw2DmiG-0uP",
        "outputId": "91c385ac-b9ec-4ced-a4c1-18f2be664657"
      },
      "execution_count": 21,
      "outputs": [
        {
          "output_type": "stream",
          "name": "stdout",
          "text": [
            "請輸入矩形的長：10\n",
            "請輸入矩形的寬：5\n",
            "矩形面積為： 50.0\n"
          ]
        }
      ]
    },
    {
      "cell_type": "markdown",
      "source": [
        "eval()函數\n",
        "eval會把str型態的表示式，轉換成數學式進行計算"
      ],
      "metadata": {
        "id": "iBpIP0wZ-2TF"
      }
    },
    {
      "cell_type": "code",
      "source": [
        "print(eval(\"3+5\"))\n",
        "id=input(\"請輸入產品編號：\")\n",
        "print(type(id))\n",
        "print(type(eval(id)))"
      ],
      "metadata": {
        "colab": {
          "base_uri": "https://localhost:8080/"
        },
        "id": "l2Biyyan-4L3",
        "outputId": "c3c553b3-27e1-47aa-8231-52da7080c8de"
      },
      "execution_count": 22,
      "outputs": [
        {
          "output_type": "stream",
          "name": "stdout",
          "text": [
            "8\n",
            "請輸入產品編號：3\n",
            "<class 'str'>\n",
            "<class 'int'>\n"
          ]
        }
      ]
    },
    {
      "cell_type": "markdown",
      "source": [
        "print的三種方式\n",
        "透過,區隔要列印的變數 eg: print(\"This\", \"is\", \"a\", \"book\")\n",
        "利用字串的str.format() (新式)\n",
        "%格式化输出字符串 (舊式)"
      ],
      "metadata": {
        "id": "6Twz1Cre-7w7"
      }
    },
    {
      "cell_type": "code",
      "source": [
        "print(\"This\", \"is\", \"a\", \"book\")\n",
        "print(\"This\"+\"is\"+\"a\"+\"book\")"
      ],
      "metadata": {
        "colab": {
          "base_uri": "https://localhost:8080/"
        },
        "id": "LD7baF7N-8Mf",
        "outputId": "425f4e88-d263-4903-8ce2-4426b44e9eec"
      },
      "execution_count": 23,
      "outputs": [
        {
          "output_type": "stream",
          "name": "stdout",
          "text": [
            "This is a book\n",
            "Thisisabook\n"
          ]
        }
      ]
    },
    {
      "cell_type": "markdown",
      "source": [
        "利用字串的str.format()，在{ }中替代變數的位置\n",
        "eg: print(\"This {} a book\".format(\"is\"))\n",
        "{}中可以設定格式\n",
        "例如：{0:10} (10個空格，靠左對齊)\n",
        "例如：{:,2f} (三個數字用,分隔，小數點後2位數)"
      ],
      "metadata": {
        "id": "RbcqRDgS--z4"
      }
    },
    {
      "cell_type": "code",
      "source": [
        "print(\"This {} a book\".format(\"is\"))\n",
        "x=123456.7890\n",
        "print(\"{:.2f}\".format(x))  #小數點.後兩位\n",
        "print(\"{:,.2f}\".format(x)) #,小數點前用,分開"
      ],
      "metadata": {
        "colab": {
          "base_uri": "https://localhost:8080/"
        },
        "id": "X4ZkVhxC_Fu_",
        "outputId": "7a0fdb71-2ba2-42c8-bc59-37ed9ddad3c3"
      },
      "execution_count": 24,
      "outputs": [
        {
          "output_type": "stream",
          "name": "stdout",
          "text": [
            "This is a book\n",
            "123456.79\n",
            "123,456.79\n"
          ]
        }
      ]
    },
    {
      "cell_type": "markdown",
      "source": [
        "C語言類似的 % 格式\n",
        "%s (字串) %d (整數) %f (浮點數)\n",
        "%s(字串): %10s (10格靠右對齊，不足的左方補空白), %-10s\n",
        "%f(浮點數): %7.3f (總共7個浮點數位數，含一個小數點，以及三個小數點後數字)"
      ],
      "metadata": {
        "id": "KO4nSvps_H87"
      }
    },
    {
      "cell_type": "code",
      "source": [
        "print(\"This %-10s a %10s\" % (\"is\", \"book\")) #字串占10格，靠右2格\n",
        "print(\"%7.3f\" % 6789.4333)"
      ],
      "metadata": {
        "colab": {
          "base_uri": "https://localhost:8080/"
        },
        "id": "tkFVVYXS_M_G",
        "outputId": "0847390d-d37a-4db8-f0f2-dfea6d4eac42"
      },
      "execution_count": 25,
      "outputs": [
        {
          "output_type": "stream",
          "name": "stdout",
          "text": [
            "This is         a       book\n",
            "6789.433\n"
          ]
        }
      ]
    }
  ]
}